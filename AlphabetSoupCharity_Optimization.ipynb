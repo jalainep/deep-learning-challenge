{
  "nbformat": 4,
  "nbformat_minor": 0,
  "metadata": {
    "colab": {
      "provenance": []
    },
    "kernelspec": {
      "name": "python3",
      "display_name": "Python 3"
    },
    "language_info": {
      "name": "python"
    }
  },
  "cells": [
    {
      "cell_type": "code",
      "execution_count": 35,
      "metadata": {
        "colab": {
          "base_uri": "https://localhost:8080/",
          "height": 206
        },
        "id": "n2UE710HTELt",
        "outputId": "be5c8ddb-2254-4d66-b297-c08c7bcf1055"
      },
      "outputs": [
        {
          "output_type": "execute_result",
          "data": {
            "text/plain": [
              "        EIN                                      NAME APPLICATION_TYPE  \\\n",
              "0  10520599              BLUE KNIGHTS MOTORCYCLE CLUB              T10   \n",
              "1  10531628    AMERICAN CHESAPEAKE CLUB CHARITABLE TR               T3   \n",
              "2  10547893        ST CLOUD PROFESSIONAL FIREFIGHTERS               T5   \n",
              "3  10553066            SOUTHSIDE ATHLETIC ASSOCIATION               T3   \n",
              "4  10556103  GENETIC RESEARCH INSTITUTE OF THE DESERT               T3   \n",
              "\n",
              "        AFFILIATION CLASSIFICATION      USE_CASE  ORGANIZATION  STATUS  \\\n",
              "0       Independent          C1000    ProductDev   Association       1   \n",
              "1       Independent          C2000  Preservation  Co-operative       1   \n",
              "2  CompanySponsored          C3000    ProductDev   Association       1   \n",
              "3  CompanySponsored          C2000  Preservation         Trust       1   \n",
              "4       Independent          C1000     Heathcare         Trust       1   \n",
              "\n",
              "      INCOME_AMT SPECIAL_CONSIDERATIONS  ASK_AMT  IS_SUCCESSFUL  \n",
              "0              0                      N     5000              1  \n",
              "1         1-9999                      N   108590              1  \n",
              "2              0                      N     5000              0  \n",
              "3    10000-24999                      N     6692              1  \n",
              "4  100000-499999                      N   142590              1  "
            ],
            "text/html": [
              "\n",
              "  <div id=\"df-2371acb4-3234-40fb-8298-0a8fb2aed478\" class=\"colab-df-container\">\n",
              "    <div>\n",
              "<style scoped>\n",
              "    .dataframe tbody tr th:only-of-type {\n",
              "        vertical-align: middle;\n",
              "    }\n",
              "\n",
              "    .dataframe tbody tr th {\n",
              "        vertical-align: top;\n",
              "    }\n",
              "\n",
              "    .dataframe thead th {\n",
              "        text-align: right;\n",
              "    }\n",
              "</style>\n",
              "<table border=\"1\" class=\"dataframe\">\n",
              "  <thead>\n",
              "    <tr style=\"text-align: right;\">\n",
              "      <th></th>\n",
              "      <th>EIN</th>\n",
              "      <th>NAME</th>\n",
              "      <th>APPLICATION_TYPE</th>\n",
              "      <th>AFFILIATION</th>\n",
              "      <th>CLASSIFICATION</th>\n",
              "      <th>USE_CASE</th>\n",
              "      <th>ORGANIZATION</th>\n",
              "      <th>STATUS</th>\n",
              "      <th>INCOME_AMT</th>\n",
              "      <th>SPECIAL_CONSIDERATIONS</th>\n",
              "      <th>ASK_AMT</th>\n",
              "      <th>IS_SUCCESSFUL</th>\n",
              "    </tr>\n",
              "  </thead>\n",
              "  <tbody>\n",
              "    <tr>\n",
              "      <th>0</th>\n",
              "      <td>10520599</td>\n",
              "      <td>BLUE KNIGHTS MOTORCYCLE CLUB</td>\n",
              "      <td>T10</td>\n",
              "      <td>Independent</td>\n",
              "      <td>C1000</td>\n",
              "      <td>ProductDev</td>\n",
              "      <td>Association</td>\n",
              "      <td>1</td>\n",
              "      <td>0</td>\n",
              "      <td>N</td>\n",
              "      <td>5000</td>\n",
              "      <td>1</td>\n",
              "    </tr>\n",
              "    <tr>\n",
              "      <th>1</th>\n",
              "      <td>10531628</td>\n",
              "      <td>AMERICAN CHESAPEAKE CLUB CHARITABLE TR</td>\n",
              "      <td>T3</td>\n",
              "      <td>Independent</td>\n",
              "      <td>C2000</td>\n",
              "      <td>Preservation</td>\n",
              "      <td>Co-operative</td>\n",
              "      <td>1</td>\n",
              "      <td>1-9999</td>\n",
              "      <td>N</td>\n",
              "      <td>108590</td>\n",
              "      <td>1</td>\n",
              "    </tr>\n",
              "    <tr>\n",
              "      <th>2</th>\n",
              "      <td>10547893</td>\n",
              "      <td>ST CLOUD PROFESSIONAL FIREFIGHTERS</td>\n",
              "      <td>T5</td>\n",
              "      <td>CompanySponsored</td>\n",
              "      <td>C3000</td>\n",
              "      <td>ProductDev</td>\n",
              "      <td>Association</td>\n",
              "      <td>1</td>\n",
              "      <td>0</td>\n",
              "      <td>N</td>\n",
              "      <td>5000</td>\n",
              "      <td>0</td>\n",
              "    </tr>\n",
              "    <tr>\n",
              "      <th>3</th>\n",
              "      <td>10553066</td>\n",
              "      <td>SOUTHSIDE ATHLETIC ASSOCIATION</td>\n",
              "      <td>T3</td>\n",
              "      <td>CompanySponsored</td>\n",
              "      <td>C2000</td>\n",
              "      <td>Preservation</td>\n",
              "      <td>Trust</td>\n",
              "      <td>1</td>\n",
              "      <td>10000-24999</td>\n",
              "      <td>N</td>\n",
              "      <td>6692</td>\n",
              "      <td>1</td>\n",
              "    </tr>\n",
              "    <tr>\n",
              "      <th>4</th>\n",
              "      <td>10556103</td>\n",
              "      <td>GENETIC RESEARCH INSTITUTE OF THE DESERT</td>\n",
              "      <td>T3</td>\n",
              "      <td>Independent</td>\n",
              "      <td>C1000</td>\n",
              "      <td>Heathcare</td>\n",
              "      <td>Trust</td>\n",
              "      <td>1</td>\n",
              "      <td>100000-499999</td>\n",
              "      <td>N</td>\n",
              "      <td>142590</td>\n",
              "      <td>1</td>\n",
              "    </tr>\n",
              "  </tbody>\n",
              "</table>\n",
              "</div>\n",
              "    <div class=\"colab-df-buttons\">\n",
              "\n",
              "  <div class=\"colab-df-container\">\n",
              "    <button class=\"colab-df-convert\" onclick=\"convertToInteractive('df-2371acb4-3234-40fb-8298-0a8fb2aed478')\"\n",
              "            title=\"Convert this dataframe to an interactive table.\"\n",
              "            style=\"display:none;\">\n",
              "\n",
              "  <svg xmlns=\"http://www.w3.org/2000/svg\" height=\"24px\" viewBox=\"0 -960 960 960\">\n",
              "    <path d=\"M120-120v-720h720v720H120Zm60-500h600v-160H180v160Zm220 220h160v-160H400v160Zm0 220h160v-160H400v160ZM180-400h160v-160H180v160Zm440 0h160v-160H620v160ZM180-180h160v-160H180v160Zm440 0h160v-160H620v160Z\"/>\n",
              "  </svg>\n",
              "    </button>\n",
              "\n",
              "  <style>\n",
              "    .colab-df-container {\n",
              "      display:flex;\n",
              "      gap: 12px;\n",
              "    }\n",
              "\n",
              "    .colab-df-convert {\n",
              "      background-color: #E8F0FE;\n",
              "      border: none;\n",
              "      border-radius: 50%;\n",
              "      cursor: pointer;\n",
              "      display: none;\n",
              "      fill: #1967D2;\n",
              "      height: 32px;\n",
              "      padding: 0 0 0 0;\n",
              "      width: 32px;\n",
              "    }\n",
              "\n",
              "    .colab-df-convert:hover {\n",
              "      background-color: #E2EBFA;\n",
              "      box-shadow: 0px 1px 2px rgba(60, 64, 67, 0.3), 0px 1px 3px 1px rgba(60, 64, 67, 0.15);\n",
              "      fill: #174EA6;\n",
              "    }\n",
              "\n",
              "    .colab-df-buttons div {\n",
              "      margin-bottom: 4px;\n",
              "    }\n",
              "\n",
              "    [theme=dark] .colab-df-convert {\n",
              "      background-color: #3B4455;\n",
              "      fill: #D2E3FC;\n",
              "    }\n",
              "\n",
              "    [theme=dark] .colab-df-convert:hover {\n",
              "      background-color: #434B5C;\n",
              "      box-shadow: 0px 1px 3px 1px rgba(0, 0, 0, 0.15);\n",
              "      filter: drop-shadow(0px 1px 2px rgba(0, 0, 0, 0.3));\n",
              "      fill: #FFFFFF;\n",
              "    }\n",
              "  </style>\n",
              "\n",
              "    <script>\n",
              "      const buttonEl =\n",
              "        document.querySelector('#df-2371acb4-3234-40fb-8298-0a8fb2aed478 button.colab-df-convert');\n",
              "      buttonEl.style.display =\n",
              "        google.colab.kernel.accessAllowed ? 'block' : 'none';\n",
              "\n",
              "      async function convertToInteractive(key) {\n",
              "        const element = document.querySelector('#df-2371acb4-3234-40fb-8298-0a8fb2aed478');\n",
              "        const dataTable =\n",
              "          await google.colab.kernel.invokeFunction('convertToInteractive',\n",
              "                                                    [key], {});\n",
              "        if (!dataTable) return;\n",
              "\n",
              "        const docLinkHtml = 'Like what you see? Visit the ' +\n",
              "          '<a target=\"_blank\" href=https://colab.research.google.com/notebooks/data_table.ipynb>data table notebook</a>'\n",
              "          + ' to learn more about interactive tables.';\n",
              "        element.innerHTML = '';\n",
              "        dataTable['output_type'] = 'display_data';\n",
              "        await google.colab.output.renderOutput(dataTable, element);\n",
              "        const docLink = document.createElement('div');\n",
              "        docLink.innerHTML = docLinkHtml;\n",
              "        element.appendChild(docLink);\n",
              "      }\n",
              "    </script>\n",
              "  </div>\n",
              "\n",
              "\n",
              "<div id=\"df-903158be-b2d9-464f-85ed-6931472c7f2e\">\n",
              "  <button class=\"colab-df-quickchart\" onclick=\"quickchart('df-903158be-b2d9-464f-85ed-6931472c7f2e')\"\n",
              "            title=\"Suggest charts\"\n",
              "            style=\"display:none;\">\n",
              "\n",
              "<svg xmlns=\"http://www.w3.org/2000/svg\" height=\"24px\"viewBox=\"0 0 24 24\"\n",
              "     width=\"24px\">\n",
              "    <g>\n",
              "        <path d=\"M19 3H5c-1.1 0-2 .9-2 2v14c0 1.1.9 2 2 2h14c1.1 0 2-.9 2-2V5c0-1.1-.9-2-2-2zM9 17H7v-7h2v7zm4 0h-2V7h2v10zm4 0h-2v-4h2v4z\"/>\n",
              "    </g>\n",
              "</svg>\n",
              "  </button>\n",
              "\n",
              "<style>\n",
              "  .colab-df-quickchart {\n",
              "      --bg-color: #E8F0FE;\n",
              "      --fill-color: #1967D2;\n",
              "      --hover-bg-color: #E2EBFA;\n",
              "      --hover-fill-color: #174EA6;\n",
              "      --disabled-fill-color: #AAA;\n",
              "      --disabled-bg-color: #DDD;\n",
              "  }\n",
              "\n",
              "  [theme=dark] .colab-df-quickchart {\n",
              "      --bg-color: #3B4455;\n",
              "      --fill-color: #D2E3FC;\n",
              "      --hover-bg-color: #434B5C;\n",
              "      --hover-fill-color: #FFFFFF;\n",
              "      --disabled-bg-color: #3B4455;\n",
              "      --disabled-fill-color: #666;\n",
              "  }\n",
              "\n",
              "  .colab-df-quickchart {\n",
              "    background-color: var(--bg-color);\n",
              "    border: none;\n",
              "    border-radius: 50%;\n",
              "    cursor: pointer;\n",
              "    display: none;\n",
              "    fill: var(--fill-color);\n",
              "    height: 32px;\n",
              "    padding: 0;\n",
              "    width: 32px;\n",
              "  }\n",
              "\n",
              "  .colab-df-quickchart:hover {\n",
              "    background-color: var(--hover-bg-color);\n",
              "    box-shadow: 0 1px 2px rgba(60, 64, 67, 0.3), 0 1px 3px 1px rgba(60, 64, 67, 0.15);\n",
              "    fill: var(--button-hover-fill-color);\n",
              "  }\n",
              "\n",
              "  .colab-df-quickchart-complete:disabled,\n",
              "  .colab-df-quickchart-complete:disabled:hover {\n",
              "    background-color: var(--disabled-bg-color);\n",
              "    fill: var(--disabled-fill-color);\n",
              "    box-shadow: none;\n",
              "  }\n",
              "\n",
              "  .colab-df-spinner {\n",
              "    border: 2px solid var(--fill-color);\n",
              "    border-color: transparent;\n",
              "    border-bottom-color: var(--fill-color);\n",
              "    animation:\n",
              "      spin 1s steps(1) infinite;\n",
              "  }\n",
              "\n",
              "  @keyframes spin {\n",
              "    0% {\n",
              "      border-color: transparent;\n",
              "      border-bottom-color: var(--fill-color);\n",
              "      border-left-color: var(--fill-color);\n",
              "    }\n",
              "    20% {\n",
              "      border-color: transparent;\n",
              "      border-left-color: var(--fill-color);\n",
              "      border-top-color: var(--fill-color);\n",
              "    }\n",
              "    30% {\n",
              "      border-color: transparent;\n",
              "      border-left-color: var(--fill-color);\n",
              "      border-top-color: var(--fill-color);\n",
              "      border-right-color: var(--fill-color);\n",
              "    }\n",
              "    40% {\n",
              "      border-color: transparent;\n",
              "      border-right-color: var(--fill-color);\n",
              "      border-top-color: var(--fill-color);\n",
              "    }\n",
              "    60% {\n",
              "      border-color: transparent;\n",
              "      border-right-color: var(--fill-color);\n",
              "    }\n",
              "    80% {\n",
              "      border-color: transparent;\n",
              "      border-right-color: var(--fill-color);\n",
              "      border-bottom-color: var(--fill-color);\n",
              "    }\n",
              "    90% {\n",
              "      border-color: transparent;\n",
              "      border-bottom-color: var(--fill-color);\n",
              "    }\n",
              "  }\n",
              "</style>\n",
              "\n",
              "  <script>\n",
              "    async function quickchart(key) {\n",
              "      const quickchartButtonEl =\n",
              "        document.querySelector('#' + key + ' button');\n",
              "      quickchartButtonEl.disabled = true;  // To prevent multiple clicks.\n",
              "      quickchartButtonEl.classList.add('colab-df-spinner');\n",
              "      try {\n",
              "        const charts = await google.colab.kernel.invokeFunction(\n",
              "            'suggestCharts', [key], {});\n",
              "      } catch (error) {\n",
              "        console.error('Error during call to suggestCharts:', error);\n",
              "      }\n",
              "      quickchartButtonEl.classList.remove('colab-df-spinner');\n",
              "      quickchartButtonEl.classList.add('colab-df-quickchart-complete');\n",
              "    }\n",
              "    (() => {\n",
              "      let quickchartButtonEl =\n",
              "        document.querySelector('#df-903158be-b2d9-464f-85ed-6931472c7f2e button');\n",
              "      quickchartButtonEl.style.display =\n",
              "        google.colab.kernel.accessAllowed ? 'block' : 'none';\n",
              "    })();\n",
              "  </script>\n",
              "</div>\n",
              "\n",
              "    </div>\n",
              "  </div>\n"
            ],
            "application/vnd.google.colaboratory.intrinsic+json": {
              "type": "dataframe",
              "variable_name": "application_df",
              "summary": "{\n  \"name\": \"application_df\",\n  \"rows\": 34299,\n  \"fields\": [\n    {\n      \"column\": \"EIN\",\n      \"properties\": {\n        \"dtype\": \"number\",\n        \"std\": 245147183,\n        \"min\": 10520599,\n        \"max\": 996086871,\n        \"num_unique_values\": 34299,\n        \"samples\": [\n          271598055,\n          900109768,\n          352562499\n        ],\n        \"semantic_type\": \"\",\n        \"description\": \"\"\n      }\n    },\n    {\n      \"column\": \"NAME\",\n      \"properties\": {\n        \"dtype\": \"string\",\n        \"num_unique_values\": 19568,\n        \"samples\": [\n          \"LOCAL 12 USW GOODYEAR INSTITUTE FORCAREER DEVELOPMENT\",\n          \"INTERNATION ASSOCIATION OF ELECTRICAL INSPECTORS\",\n          \"BRICKLAYERS & ALLIED CRAFTWORKERS LOCAL 13 VACATION FUND\"\n        ],\n        \"semantic_type\": \"\",\n        \"description\": \"\"\n      }\n    },\n    {\n      \"column\": \"APPLICATION_TYPE\",\n      \"properties\": {\n        \"dtype\": \"category\",\n        \"num_unique_values\": 17,\n        \"samples\": [\n          \"T10\",\n          \"T3\",\n          \"T6\"\n        ],\n        \"semantic_type\": \"\",\n        \"description\": \"\"\n      }\n    },\n    {\n      \"column\": \"AFFILIATION\",\n      \"properties\": {\n        \"dtype\": \"category\",\n        \"num_unique_values\": 6,\n        \"samples\": [\n          \"Independent\",\n          \"CompanySponsored\",\n          \"Other\"\n        ],\n        \"semantic_type\": \"\",\n        \"description\": \"\"\n      }\n    },\n    {\n      \"column\": \"CLASSIFICATION\",\n      \"properties\": {\n        \"dtype\": \"category\",\n        \"num_unique_values\": 71,\n        \"samples\": [\n          \"C1500\",\n          \"C1000\",\n          \"C1570\"\n        ],\n        \"semantic_type\": \"\",\n        \"description\": \"\"\n      }\n    },\n    {\n      \"column\": \"USE_CASE\",\n      \"properties\": {\n        \"dtype\": \"category\",\n        \"num_unique_values\": 5,\n        \"samples\": [\n          \"Preservation\",\n          \"Other\",\n          \"Heathcare\"\n        ],\n        \"semantic_type\": \"\",\n        \"description\": \"\"\n      }\n    },\n    {\n      \"column\": \"ORGANIZATION\",\n      \"properties\": {\n        \"dtype\": \"category\",\n        \"num_unique_values\": 4,\n        \"samples\": [\n          \"Co-operative\",\n          \"Corporation\",\n          \"Association\"\n        ],\n        \"semantic_type\": \"\",\n        \"description\": \"\"\n      }\n    },\n    {\n      \"column\": \"STATUS\",\n      \"properties\": {\n        \"dtype\": \"number\",\n        \"std\": 0,\n        \"min\": 0,\n        \"max\": 1,\n        \"num_unique_values\": 2,\n        \"samples\": [\n          0,\n          1\n        ],\n        \"semantic_type\": \"\",\n        \"description\": \"\"\n      }\n    },\n    {\n      \"column\": \"INCOME_AMT\",\n      \"properties\": {\n        \"dtype\": \"category\",\n        \"num_unique_values\": 9,\n        \"samples\": [\n          \"1M-5M\",\n          \"1-9999\"\n        ],\n        \"semantic_type\": \"\",\n        \"description\": \"\"\n      }\n    },\n    {\n      \"column\": \"SPECIAL_CONSIDERATIONS\",\n      \"properties\": {\n        \"dtype\": \"category\",\n        \"num_unique_values\": 2,\n        \"samples\": [\n          \"Y\",\n          \"N\"\n        ],\n        \"semantic_type\": \"\",\n        \"description\": \"\"\n      }\n    },\n    {\n      \"column\": \"ASK_AMT\",\n      \"properties\": {\n        \"dtype\": \"number\",\n        \"std\": 87130452,\n        \"min\": 5000,\n        \"max\": 8597806340,\n        \"num_unique_values\": 8747,\n        \"samples\": [\n          1328927,\n          42942\n        ],\n        \"semantic_type\": \"\",\n        \"description\": \"\"\n      }\n    },\n    {\n      \"column\": \"IS_SUCCESSFUL\",\n      \"properties\": {\n        \"dtype\": \"number\",\n        \"std\": 0,\n        \"min\": 0,\n        \"max\": 1,\n        \"num_unique_values\": 2,\n        \"samples\": [\n          0,\n          1\n        ],\n        \"semantic_type\": \"\",\n        \"description\": \"\"\n      }\n    }\n  ]\n}"
            }
          },
          "metadata": {},
          "execution_count": 35
        }
      ],
      "source": [
        "# Import our dependencies\n",
        "from sklearn.model_selection import train_test_split\n",
        "from sklearn.preprocessing import StandardScaler\n",
        "import pandas as pd\n",
        "import tensorflow as tf\n",
        "\n",
        "#  Import and read the charity_data.csv.\n",
        "import pandas as pd\n",
        "application_df = pd.read_csv(\"https://static.bc-edx.com/data/dl-1-2/m21/lms/starter/charity_data.csv\")\n",
        "application_df.head()\n",
        ""
      ]
    },
    {
      "cell_type": "code",
      "source": [
        "# Drop the non-beneficial ID columns, 'EIN'\t.\n",
        "df = application_df.drop(columns=['EIN'])"
      ],
      "metadata": {
        "id": "-71vQ7GPVDpX"
      },
      "execution_count": 36,
      "outputs": []
    },
    {
      "cell_type": "code",
      "source": [
        "# Determine the number of unique values in each column.\n",
        "df.nunique()"
      ],
      "metadata": {
        "colab": {
          "base_uri": "https://localhost:8080/"
        },
        "id": "vVQ25rbdVJft",
        "outputId": "9a64a241-458f-47a6-e3bf-7b9eff1bf68d"
      },
      "execution_count": 37,
      "outputs": [
        {
          "output_type": "execute_result",
          "data": {
            "text/plain": [
              "NAME                      19568\n",
              "APPLICATION_TYPE             17\n",
              "AFFILIATION                   6\n",
              "CLASSIFICATION               71\n",
              "USE_CASE                      5\n",
              "ORGANIZATION                  4\n",
              "STATUS                        2\n",
              "INCOME_AMT                    9\n",
              "SPECIAL_CONSIDERATIONS        2\n",
              "ASK_AMT                    8747\n",
              "IS_SUCCESSFUL                 2\n",
              "dtype: int64"
            ]
          },
          "metadata": {},
          "execution_count": 37
        }
      ]
    },
    {
      "cell_type": "code",
      "source": [
        "# Look at APPLICATION_TYPE value counts for binning\n",
        "application_types = df['APPLICATION_TYPE'].value_counts()\n",
        "application_types"
      ],
      "metadata": {
        "colab": {
          "base_uri": "https://localhost:8080/"
        },
        "id": "vdOtF1P3VNx4",
        "outputId": "aba85f97-b4c6-4d60-d925-784fab790169"
      },
      "execution_count": 38,
      "outputs": [
        {
          "output_type": "execute_result",
          "data": {
            "text/plain": [
              "T3     27037\n",
              "T4      1542\n",
              "T6      1216\n",
              "T5      1173\n",
              "T19     1065\n",
              "T8       737\n",
              "T7       725\n",
              "T10      528\n",
              "T9       156\n",
              "T13       66\n",
              "T12       27\n",
              "T2        16\n",
              "T25        3\n",
              "T14        3\n",
              "T29        2\n",
              "T15        2\n",
              "T17        1\n",
              "Name: APPLICATION_TYPE, dtype: int64"
            ]
          },
          "metadata": {},
          "execution_count": 38
        }
      ]
    },
    {
      "cell_type": "code",
      "source": [
        "# Choose a cutoff value and create a list of application types to be replaced\n",
        "# use the variable name `application_types_to_replace`\n",
        "\n",
        "application_types_to_replace = [index for index,row in application_types.items() if row < 500]\n",
        "\n",
        "\n",
        "# Replace in dataframe\n",
        "for app in application_types_to_replace:\n",
        "    application_df['APPLICATION_TYPE'] = application_df['APPLICATION_TYPE'].replace(app,\"Other\")\n",
        "\n",
        "# Check to make sure binning was successful\n",
        "application_df['APPLICATION_TYPE'].value_counts()"
      ],
      "metadata": {
        "colab": {
          "base_uri": "https://localhost:8080/"
        },
        "id": "MUPReZ8UVTUi",
        "outputId": "47e9b64c-6cf8-4d35-8470-8419a250b881"
      },
      "execution_count": 39,
      "outputs": [
        {
          "output_type": "execute_result",
          "data": {
            "text/plain": [
              "T3       27037\n",
              "T4        1542\n",
              "T6        1216\n",
              "T5        1173\n",
              "T19       1065\n",
              "T8         737\n",
              "T7         725\n",
              "T10        528\n",
              "Other      276\n",
              "Name: APPLICATION_TYPE, dtype: int64"
            ]
          },
          "metadata": {},
          "execution_count": 39
        }
      ]
    },
    {
      "cell_type": "code",
      "source": [
        "# Look at CLASSIFICATION value counts for binning\n",
        "classification_types = df['CLASSIFICATION'].value_counts()\n",
        "classification_types"
      ],
      "metadata": {
        "colab": {
          "base_uri": "https://localhost:8080/"
        },
        "id": "Mg9PTnl6VXF-",
        "outputId": "ed1e9e9b-5342-4fff-9175-2fb9a3ed4eaa"
      },
      "execution_count": 40,
      "outputs": [
        {
          "output_type": "execute_result",
          "data": {
            "text/plain": [
              "C1000    17326\n",
              "C2000     6074\n",
              "C1200     4837\n",
              "C3000     1918\n",
              "C2100     1883\n",
              "         ...  \n",
              "C4120        1\n",
              "C8210        1\n",
              "C2561        1\n",
              "C4500        1\n",
              "C2150        1\n",
              "Name: CLASSIFICATION, Length: 71, dtype: int64"
            ]
          },
          "metadata": {},
          "execution_count": 40
        }
      ]
    },
    {
      "cell_type": "code",
      "source": [
        "# You may find it helpful to look at CLASSIFICATION value counts >1\n",
        "[[index,row] for index,row in classification_types.items() if row > 1]"
      ],
      "metadata": {
        "colab": {
          "base_uri": "https://localhost:8080/"
        },
        "id": "qD1RBn-WVc3o",
        "outputId": "e4bc2dd8-4390-4e17-be82-5e2f5f98e8c8"
      },
      "execution_count": 41,
      "outputs": [
        {
          "output_type": "execute_result",
          "data": {
            "text/plain": [
              "[['C1000', 17326],\n",
              " ['C2000', 6074],\n",
              " ['C1200', 4837],\n",
              " ['C3000', 1918],\n",
              " ['C2100', 1883],\n",
              " ['C7000', 777],\n",
              " ['C1700', 287],\n",
              " ['C4000', 194],\n",
              " ['C5000', 116],\n",
              " ['C1270', 114],\n",
              " ['C2700', 104],\n",
              " ['C2800', 95],\n",
              " ['C7100', 75],\n",
              " ['C1300', 58],\n",
              " ['C1280', 50],\n",
              " ['C1230', 36],\n",
              " ['C1400', 34],\n",
              " ['C7200', 32],\n",
              " ['C2300', 32],\n",
              " ['C1240', 30],\n",
              " ['C8000', 20],\n",
              " ['C7120', 18],\n",
              " ['C1500', 16],\n",
              " ['C1800', 15],\n",
              " ['C6000', 15],\n",
              " ['C1250', 14],\n",
              " ['C8200', 11],\n",
              " ['C1238', 10],\n",
              " ['C1278', 10],\n",
              " ['C1235', 9],\n",
              " ['C1237', 9],\n",
              " ['C7210', 7],\n",
              " ['C2400', 6],\n",
              " ['C1720', 6],\n",
              " ['C4100', 6],\n",
              " ['C1257', 5],\n",
              " ['C1600', 5],\n",
              " ['C1260', 3],\n",
              " ['C2710', 3],\n",
              " ['C0', 3],\n",
              " ['C3200', 2],\n",
              " ['C1234', 2],\n",
              " ['C1246', 2],\n",
              " ['C1267', 2],\n",
              " ['C1256', 2]]"
            ]
          },
          "metadata": {},
          "execution_count": 41
        }
      ]
    },
    {
      "cell_type": "code",
      "source": [
        "# Choose a cutoff value and create a list of classifications to be replaced\n",
        "# use the variable name `classifications_to_replace`\n",
        "classifications_to_replace = [index for index,row in classification_types.items() if row < classification_types.mean()]\n",
        "\n",
        "# Replace in dataframe\n",
        "for cls in classifications_to_replace:\n",
        "    application_df['CLASSIFICATION'] = application_df['CLASSIFICATION'].replace(cls,\"Other\")\n",
        "\n",
        "# Check to make sure binning was successful\n",
        "application_df['CLASSIFICATION'].value_counts()"
      ],
      "metadata": {
        "colab": {
          "base_uri": "https://localhost:8080/"
        },
        "id": "0NAIPFVqVin6",
        "outputId": "4a082bbd-7cad-4cdc-a86d-cc35ec42513f"
      },
      "execution_count": 42,
      "outputs": [
        {
          "output_type": "execute_result",
          "data": {
            "text/plain": [
              "C1000    17326\n",
              "C2000     6074\n",
              "C1200     4837\n",
              "C3000     1918\n",
              "C2100     1883\n",
              "Other     1484\n",
              "C7000      777\n",
              "Name: CLASSIFICATION, dtype: int64"
            ]
          },
          "metadata": {},
          "execution_count": 42
        }
      ]
    },
    {
      "cell_type": "code",
      "source": [
        "# Convert categorical data to numeric with `pd.get_dummies`\n",
        "dummies = pd.get_dummies(df[['APPLICATION_TYPE', 'AFFILIATION', 'CLASSIFICATION', 'USE_CASE',\n",
        "        'INCOME_AMT', 'SPECIAL_CONSIDERATIONS']])\n",
        "processed_df = pd.concat([df[['STATUS', 'ASK_AMT']], dummies], axis=1)"
      ],
      "metadata": {
        "id": "fe3HB60BVn_o"
      },
      "execution_count": 44,
      "outputs": []
    },
    {
      "cell_type": "code",
      "source": [
        "# Split our preprocessed data into our features and target arrays\n",
        "X = processed_df\n",
        "y = df['IS_SUCCESSFUL']\n",
        "\n",
        "# Split the preprocessed data into a training and testing dataset\n",
        "X_train, X_test, y_train, y_test = train_test_split(X, y,test_size=.2, random_state=42)"
      ],
      "metadata": {
        "id": "_ylR7b_8Vrey"
      },
      "execution_count": 45,
      "outputs": []
    },
    {
      "cell_type": "code",
      "source": [
        "# Create a StandardScaler instances\n",
        "scaler = StandardScaler()\n",
        "\n",
        "# Fit the StandardScaler\n",
        "X_scaler = scaler.fit(X_train)\n",
        "\n",
        "# Scale the data\n",
        "X_train_scaled = X_scaler.transform(X_train)\n",
        "X_test_scaled = X_scaler.transform(X_test)"
      ],
      "metadata": {
        "id": "3ga4gmr4VwfQ"
      },
      "execution_count": 46,
      "outputs": []
    },
    {
      "cell_type": "code",
      "source": [
        "model = tf.keras.models.Sequential()\n",
        "\n",
        "\n",
        "\n",
        "# First hidden layer\n",
        "model.add(tf.keras.layers.Dense(64, input_shape=(112,), activation='relu'))\n",
        "\n",
        "# Second hidden layer\n",
        "model.add(tf.keras.layers.Dense(units=3, activation='tanh'))\n",
        "\n",
        "# Output layer\n",
        "model.add(tf.keras.layers.Dense(units=1, activation='sigmoid'))\n",
        "\n",
        "# Check the structure of the model\n",
        "model.build()\n",
        "model.summary()"
      ],
      "metadata": {
        "colab": {
          "base_uri": "https://localhost:8080/"
        },
        "id": "RNE6Zv0uYZTy",
        "outputId": "a2041a40-9a28-491a-b9ba-b9ec7207f61f"
      },
      "execution_count": 47,
      "outputs": [
        {
          "output_type": "stream",
          "name": "stdout",
          "text": [
            "Model: \"sequential_3\"\n",
            "_________________________________________________________________\n",
            " Layer (type)                Output Shape              Param #   \n",
            "=================================================================\n",
            " dense_9 (Dense)             (None, 64)                7232      \n",
            "                                                                 \n",
            " dense_10 (Dense)            (None, 3)                 195       \n",
            "                                                                 \n",
            " dense_11 (Dense)            (None, 1)                 4         \n",
            "                                                                 \n",
            "=================================================================\n",
            "Total params: 7431 (29.03 KB)\n",
            "Trainable params: 7431 (29.03 KB)\n",
            "Non-trainable params: 0 (0.00 Byte)\n",
            "_________________________________________________________________\n"
          ]
        }
      ]
    },
    {
      "cell_type": "code",
      "source": [
        "# Compile the model\n",
        "\n",
        "model.compile(loss=\"BinaryCrossentropy\", optimizer=\"adam\", metrics=['accuracy', 'mse'])"
      ],
      "metadata": {
        "id": "fvp3E0LOYuS3"
      },
      "execution_count": 48,
      "outputs": []
    },
    {
      "cell_type": "code",
      "source": [
        "# Train the model\n",
        "fit_model = model.fit(X_train_scaled, y_train, epochs=75)"
      ],
      "metadata": {
        "colab": {
          "base_uri": "https://localhost:8080/"
        },
        "id": "NXzcv-uVYwWq",
        "outputId": "ae2e44a6-d428-4c84-ebc8-e61329e2a11a"
      },
      "execution_count": 49,
      "outputs": [
        {
          "output_type": "stream",
          "name": "stdout",
          "text": [
            "Epoch 1/75\n",
            "858/858 [==============================] - 3s 2ms/step - loss: 0.5778 - accuracy: 0.7180 - mse: 0.1958\n",
            "Epoch 2/75\n",
            "858/858 [==============================] - 3s 3ms/step - loss: 0.5620 - accuracy: 0.7256 - mse: 0.1894\n",
            "Epoch 3/75\n",
            "858/858 [==============================] - 2s 2ms/step - loss: 0.5595 - accuracy: 0.7262 - mse: 0.1885\n",
            "Epoch 4/75\n",
            "858/858 [==============================] - 2s 2ms/step - loss: 0.5582 - accuracy: 0.7275 - mse: 0.1880\n",
            "Epoch 5/75\n",
            "858/858 [==============================] - 2s 2ms/step - loss: 0.5570 - accuracy: 0.7285 - mse: 0.1877\n",
            "Epoch 6/75\n",
            "858/858 [==============================] - 2s 2ms/step - loss: 0.5564 - accuracy: 0.7282 - mse: 0.1875\n",
            "Epoch 7/75\n",
            "858/858 [==============================] - 2s 2ms/step - loss: 0.5565 - accuracy: 0.7274 - mse: 0.1876\n",
            "Epoch 8/75\n",
            "858/858 [==============================] - 3s 3ms/step - loss: 0.5556 - accuracy: 0.7274 - mse: 0.1872\n",
            "Epoch 9/75\n",
            "858/858 [==============================] - 2s 3ms/step - loss: 0.5552 - accuracy: 0.7295 - mse: 0.1870\n",
            "Epoch 10/75\n",
            "858/858 [==============================] - 2s 2ms/step - loss: 0.5545 - accuracy: 0.7289 - mse: 0.1868\n",
            "Epoch 11/75\n",
            "858/858 [==============================] - 2s 2ms/step - loss: 0.5546 - accuracy: 0.7286 - mse: 0.1868\n",
            "Epoch 12/75\n",
            "858/858 [==============================] - 2s 2ms/step - loss: 0.5544 - accuracy: 0.7293 - mse: 0.1868\n",
            "Epoch 13/75\n",
            "858/858 [==============================] - 2s 2ms/step - loss: 0.5544 - accuracy: 0.7285 - mse: 0.1868\n",
            "Epoch 14/75\n",
            "858/858 [==============================] - 3s 3ms/step - loss: 0.5542 - accuracy: 0.7282 - mse: 0.1867\n",
            "Epoch 15/75\n",
            "858/858 [==============================] - 2s 2ms/step - loss: 0.5542 - accuracy: 0.7295 - mse: 0.1867\n",
            "Epoch 16/75\n",
            "858/858 [==============================] - 2s 2ms/step - loss: 0.5535 - accuracy: 0.7287 - mse: 0.1864\n",
            "Epoch 17/75\n",
            "858/858 [==============================] - 2s 2ms/step - loss: 0.5533 - accuracy: 0.7302 - mse: 0.1864\n",
            "Epoch 18/75\n",
            "858/858 [==============================] - 2s 2ms/step - loss: 0.5532 - accuracy: 0.7293 - mse: 0.1864\n",
            "Epoch 19/75\n",
            "858/858 [==============================] - 2s 2ms/step - loss: 0.5533 - accuracy: 0.7298 - mse: 0.1864\n",
            "Epoch 20/75\n",
            "858/858 [==============================] - 3s 4ms/step - loss: 0.5529 - accuracy: 0.7300 - mse: 0.1862\n",
            "Epoch 21/75\n",
            "858/858 [==============================] - 3s 3ms/step - loss: 0.5532 - accuracy: 0.7288 - mse: 0.1863\n",
            "Epoch 22/75\n",
            "858/858 [==============================] - 2s 2ms/step - loss: 0.5525 - accuracy: 0.7306 - mse: 0.1860\n",
            "Epoch 23/75\n",
            "858/858 [==============================] - 2s 2ms/step - loss: 0.5526 - accuracy: 0.7296 - mse: 0.1861\n",
            "Epoch 24/75\n",
            "858/858 [==============================] - 2s 2ms/step - loss: 0.5520 - accuracy: 0.7312 - mse: 0.1858\n",
            "Epoch 25/75\n",
            "858/858 [==============================] - 2s 2ms/step - loss: 0.5522 - accuracy: 0.7300 - mse: 0.1859\n",
            "Epoch 26/75\n",
            "858/858 [==============================] - 2s 3ms/step - loss: 0.5512 - accuracy: 0.7317 - mse: 0.1856\n",
            "Epoch 27/75\n",
            "858/858 [==============================] - 2s 3ms/step - loss: 0.5519 - accuracy: 0.7306 - mse: 0.1858\n",
            "Epoch 28/75\n",
            "858/858 [==============================] - 2s 2ms/step - loss: 0.5514 - accuracy: 0.7314 - mse: 0.1856\n",
            "Epoch 29/75\n",
            "858/858 [==============================] - 2s 2ms/step - loss: 0.5515 - accuracy: 0.7316 - mse: 0.1857\n",
            "Epoch 30/75\n",
            "858/858 [==============================] - 2s 2ms/step - loss: 0.5516 - accuracy: 0.7310 - mse: 0.1857\n",
            "Epoch 31/75\n",
            "858/858 [==============================] - 2s 2ms/step - loss: 0.5511 - accuracy: 0.7311 - mse: 0.1855\n",
            "Epoch 32/75\n",
            "858/858 [==============================] - 2s 3ms/step - loss: 0.5513 - accuracy: 0.7314 - mse: 0.1856\n",
            "Epoch 33/75\n",
            "858/858 [==============================] - 2s 3ms/step - loss: 0.5512 - accuracy: 0.7309 - mse: 0.1856\n",
            "Epoch 34/75\n",
            "858/858 [==============================] - 2s 2ms/step - loss: 0.5510 - accuracy: 0.7318 - mse: 0.1855\n",
            "Epoch 35/75\n",
            "858/858 [==============================] - 2s 2ms/step - loss: 0.5513 - accuracy: 0.7314 - mse: 0.1856\n",
            "Epoch 36/75\n",
            "858/858 [==============================] - 2s 2ms/step - loss: 0.5516 - accuracy: 0.7316 - mse: 0.1857\n",
            "Epoch 37/75\n",
            "858/858 [==============================] - 2s 2ms/step - loss: 0.5511 - accuracy: 0.7315 - mse: 0.1855\n",
            "Epoch 38/75\n",
            "858/858 [==============================] - 3s 3ms/step - loss: 0.5507 - accuracy: 0.7320 - mse: 0.1853\n",
            "Epoch 39/75\n",
            "858/858 [==============================] - 2s 3ms/step - loss: 0.5512 - accuracy: 0.7310 - mse: 0.1856\n",
            "Epoch 40/75\n",
            "858/858 [==============================] - 2s 2ms/step - loss: 0.5509 - accuracy: 0.7313 - mse: 0.1855\n",
            "Epoch 41/75\n",
            "858/858 [==============================] - 2s 2ms/step - loss: 0.5504 - accuracy: 0.7322 - mse: 0.1853\n",
            "Epoch 42/75\n",
            "858/858 [==============================] - 2s 2ms/step - loss: 0.5504 - accuracy: 0.7325 - mse: 0.1853\n",
            "Epoch 43/75\n",
            "858/858 [==============================] - 2s 2ms/step - loss: 0.5510 - accuracy: 0.7316 - mse: 0.1855\n",
            "Epoch 44/75\n",
            "858/858 [==============================] - 3s 3ms/step - loss: 0.5510 - accuracy: 0.7316 - mse: 0.1855\n",
            "Epoch 45/75\n",
            "858/858 [==============================] - 2s 3ms/step - loss: 0.5503 - accuracy: 0.7307 - mse: 0.1853\n",
            "Epoch 46/75\n",
            "858/858 [==============================] - 2s 2ms/step - loss: 0.5504 - accuracy: 0.7318 - mse: 0.1852\n",
            "Epoch 47/75\n",
            "858/858 [==============================] - 2s 2ms/step - loss: 0.5504 - accuracy: 0.7321 - mse: 0.1852\n",
            "Epoch 48/75\n",
            "858/858 [==============================] - 2s 2ms/step - loss: 0.5502 - accuracy: 0.7322 - mse: 0.1851\n",
            "Epoch 49/75\n",
            "858/858 [==============================] - 2s 2ms/step - loss: 0.5504 - accuracy: 0.7321 - mse: 0.1852\n",
            "Epoch 50/75\n",
            "858/858 [==============================] - 3s 3ms/step - loss: 0.5502 - accuracy: 0.7326 - mse: 0.1851\n",
            "Epoch 51/75\n",
            "858/858 [==============================] - 2s 3ms/step - loss: 0.5499 - accuracy: 0.7332 - mse: 0.1851\n",
            "Epoch 52/75\n",
            "858/858 [==============================] - 2s 2ms/step - loss: 0.5501 - accuracy: 0.7325 - mse: 0.1851\n",
            "Epoch 53/75\n",
            "858/858 [==============================] - 2s 2ms/step - loss: 0.5503 - accuracy: 0.7324 - mse: 0.1852\n",
            "Epoch 54/75\n",
            "858/858 [==============================] - 2s 2ms/step - loss: 0.5493 - accuracy: 0.7332 - mse: 0.1848\n",
            "Epoch 55/75\n",
            "858/858 [==============================] - 2s 2ms/step - loss: 0.5497 - accuracy: 0.7332 - mse: 0.1849\n",
            "Epoch 56/75\n",
            "858/858 [==============================] - 3s 3ms/step - loss: 0.5496 - accuracy: 0.7319 - mse: 0.1849\n",
            "Epoch 57/75\n",
            "858/858 [==============================] - 2s 2ms/step - loss: 0.5495 - accuracy: 0.7329 - mse: 0.1849\n",
            "Epoch 58/75\n",
            "858/858 [==============================] - 2s 2ms/step - loss: 0.5496 - accuracy: 0.7331 - mse: 0.1849\n",
            "Epoch 59/75\n",
            "858/858 [==============================] - 2s 2ms/step - loss: 0.5494 - accuracy: 0.7325 - mse: 0.1849\n",
            "Epoch 60/75\n",
            "858/858 [==============================] - 2s 2ms/step - loss: 0.5493 - accuracy: 0.7334 - mse: 0.1848\n",
            "Epoch 61/75\n",
            "858/858 [==============================] - 2s 2ms/step - loss: 0.5493 - accuracy: 0.7333 - mse: 0.1848\n",
            "Epoch 62/75\n",
            "858/858 [==============================] - 3s 3ms/step - loss: 0.5495 - accuracy: 0.7329 - mse: 0.1848\n",
            "Epoch 63/75\n",
            "858/858 [==============================] - 2s 2ms/step - loss: 0.5493 - accuracy: 0.7324 - mse: 0.1848\n",
            "Epoch 64/75\n",
            "858/858 [==============================] - 2s 2ms/step - loss: 0.5489 - accuracy: 0.7324 - mse: 0.1847\n",
            "Epoch 65/75\n",
            "858/858 [==============================] - 2s 2ms/step - loss: 0.5494 - accuracy: 0.7326 - mse: 0.1848\n",
            "Epoch 66/75\n",
            "858/858 [==============================] - 2s 2ms/step - loss: 0.5491 - accuracy: 0.7329 - mse: 0.1847\n",
            "Epoch 67/75\n",
            "858/858 [==============================] - 2s 2ms/step - loss: 0.5487 - accuracy: 0.7328 - mse: 0.1846\n",
            "Epoch 68/75\n",
            "858/858 [==============================] - 3s 3ms/step - loss: 0.5500 - accuracy: 0.7320 - mse: 0.1852\n",
            "Epoch 69/75\n",
            "858/858 [==============================] - 2s 2ms/step - loss: 0.5488 - accuracy: 0.7334 - mse: 0.1846\n",
            "Epoch 70/75\n",
            "858/858 [==============================] - 2s 2ms/step - loss: 0.5488 - accuracy: 0.7328 - mse: 0.1847\n",
            "Epoch 71/75\n",
            "858/858 [==============================] - 2s 2ms/step - loss: 0.5489 - accuracy: 0.7333 - mse: 0.1847\n",
            "Epoch 72/75\n",
            "858/858 [==============================] - 2s 2ms/step - loss: 0.5491 - accuracy: 0.7326 - mse: 0.1848\n",
            "Epoch 73/75\n",
            "858/858 [==============================] - 2s 2ms/step - loss: 0.5487 - accuracy: 0.7325 - mse: 0.1846\n",
            "Epoch 74/75\n",
            "858/858 [==============================] - 3s 4ms/step - loss: 0.5492 - accuracy: 0.7324 - mse: 0.1848\n",
            "Epoch 75/75\n",
            "858/858 [==============================] - 2s 2ms/step - loss: 0.5483 - accuracy: 0.7328 - mse: 0.1844\n"
          ]
        }
      ]
    },
    {
      "cell_type": "code",
      "source": [
        "# Evaluate the model using the test data\n",
        "model_loss = model.evaluate(X_test_scaled, y_test, verbose=2)[0]\n",
        "model_accuracy = model.evaluate(X_test_scaled, y_test, verbose=2)[1]\n",
        "\n",
        "print(f\"Loss: {model_loss}, Accuracy: {model_accuracy}\")"
      ],
      "metadata": {
        "colab": {
          "base_uri": "https://localhost:8080/"
        },
        "id": "exTNvj6Bd3Ze",
        "outputId": "3c9170cf-b2b7-4577-f309-7a58edd95865"
      },
      "execution_count": 52,
      "outputs": [
        {
          "output_type": "stream",
          "name": "stdout",
          "text": [
            "215/215 - 0s - loss: 0.5624 - accuracy: 0.7242 - mse: 0.1898 - 283ms/epoch - 1ms/step\n",
            "215/215 - 0s - loss: 0.5624 - accuracy: 0.7242 - mse: 0.1898 - 290ms/epoch - 1ms/step\n",
            "Loss: 0.5623909831047058, Accuracy: 0.7241982221603394\n"
          ]
        }
      ]
    },
    {
      "cell_type": "code",
      "source": [
        "# Export our model to HDF5 file\n",
        "model.save(\"AlphabetSoupCharity_Optimization.h5\")"
      ],
      "metadata": {
        "id": "BXbSMVjgd-xA"
      },
      "execution_count": 53,
      "outputs": []
    }
  ]
}